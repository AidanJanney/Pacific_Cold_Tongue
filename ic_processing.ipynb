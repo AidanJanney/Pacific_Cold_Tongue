{
 "cells": [
  {
   "cell_type": "code",
   "execution_count": 2,
   "id": "4106faeb",
   "metadata": {},
   "outputs": [],
   "source": [
    "import regional_mom6 as rm6\n",
    "from pathlib import Path\n",
    "from CrocoDash import utils\n",
    "from CrocoDash import case\n",
    "from CrocoDash.raw_data_access.large_data_workflow.utils import (\n",
    "    load_config,\n",
    "    parse_dataset_folder,\n",
    ")\n",
    "import re\n",
    "import os\n",
    "from collections import defaultdict\n",
    "from datetime import datetime\n",
    "import xarray as xr"
   ]
  },
  {
   "cell_type": "code",
   "execution_count": 14,
   "id": "7d71385a",
   "metadata": {},
   "outputs": [],
   "source": [
    "hgrid = \"/glade/work/ajanney/CrocoDash_Input/pacific_archive/ocnice/ocean_hgrid_PacificColdTongue_d21a8a.nc\"\n",
    "output_folder = \"/glade/work/ajanney/CrocoDash_Input/pacific_archive/ocnice\"\n",
    "raw_ic_path = '/glade/work/ajanney/CrocoDash_Input/pacific_archive/ic_unprocessed_clean.nc'\n",
    "ocean_varnames = {\n",
    "        \"time\": \"time\",\n",
    "        \"yh\": \"latitude\",\n",
    "        \"xh\": \"longitude\",\n",
    "        \"zl\": \"depth\",\n",
    "        \"eta\": \"zos\",\n",
    "        \"u\": \"uo\",\n",
    "        \"v\": \"vo\",\n",
    "        \"tracers\": {\n",
    "            \"salt\": \"so\",\n",
    "            \"temp\": \"thetao\"\n",
    "        }\n",
    "    }\n",
    "\n",
    "from CrocoDash.vgrid import VGrid\n",
    "\n",
    "vgrid  = VGrid.hyperbolic(\n",
    "    nk = 75,\n",
    "    depth = 8012.750000089288,\n",
    "    ratio=20.0\n",
    ")"
   ]
  },
  {
   "cell_type": "code",
   "execution_count": 15,
   "metadata": {},
   "outputs": [
    {
     "name": "stderr",
     "output_type": "stream",
     "text": [
      "INFO:regional_mom6.regridding:Getting t points..\n",
      "INFO:regional_mom6.regridding:Creating Regridder\n",
      "INFO:regional_mom6.regridding:Creating Regridder\n",
      "INFO:regional_mom6.regridding:Creating Regridder\n"
     ]
    },
    {
     "name": "stdout",
     "output_type": "stream",
     "text": [
      "Setting up Initial Conditions\n",
      "Regridding Velocities... "
     ]
    },
    {
     "name": "stderr",
     "output_type": "stream",
     "text": [
      "INFO:regional_mom6.rotation:Getting rotation angle\n",
      "INFO:regional_mom6.rotation:Calculating grid rotation angle\n",
      "INFO:regional_mom6.regridding:Getting u points..\n",
      "INFO:regional_mom6.regridding:Getting v points..\n"
     ]
    },
    {
     "name": "stdout",
     "output_type": "stream",
     "text": [
      "Done.\n",
      "Regridding Tracers... Done.\n",
      "Regridding Free surface... Done.\n"
     ]
    },
    {
     "ename": "AttributeError",
     "evalue": "'VGrid' object has no attribute 'zl'",
     "output_type": "error",
     "traceback": [
      "\u001b[0;31m---------------------------------------------------------------------------\u001b[0m",
      "\u001b[0;31mAttributeError\u001b[0m                            Traceback (most recent call last)",
      "Input \u001b[0;32mIn [15]\u001b[0m, in \u001b[0;36m<cell line: 0>\u001b[0;34m()\u001b[0m\n\u001b[1;32m      7\u001b[0m expt\u001b[38;5;241m.\u001b[39mvgrid \u001b[38;5;241m=\u001b[39m vgrid\n\u001b[1;32m      8\u001b[0m expt\u001b[38;5;241m.\u001b[39mmom_input_dir \u001b[38;5;241m=\u001b[39m Path(output_folder)\n\u001b[0;32m---> 10\u001b[0m \u001b[43mexpt\u001b[49m\u001b[38;5;241;43m.\u001b[39;49m\u001b[43msetup_initial_condition\u001b[49m\u001b[43m(\u001b[49m\n\u001b[1;32m     11\u001b[0m \u001b[43m        \u001b[49m\u001b[43mraw_ic_path\u001b[49m\u001b[38;5;241;43m=\u001b[39;49m\u001b[38;5;124;43m'\u001b[39;49m\u001b[38;5;124;43m/glade/work/ajanney/CrocoDash_Input/pacific_archive/ic_unprocessed_clean.nc\u001b[39;49m\u001b[38;5;124;43m'\u001b[39;49m\u001b[43m,\u001b[49m\n\u001b[1;32m     12\u001b[0m \u001b[43m        \u001b[49m\u001b[43mvarnames\u001b[49m\u001b[38;5;241;43m=\u001b[39;49m\u001b[43mocean_varnames\u001b[49m\u001b[43m,\u001b[49m\n\u001b[1;32m     13\u001b[0m \u001b[43m        \u001b[49m\u001b[43marakawa_grid\u001b[49m\u001b[38;5;241;43m=\u001b[39;49m\u001b[38;5;124;43m\"\u001b[39;49m\u001b[38;5;124;43mA\u001b[39;49m\u001b[38;5;124;43m\"\u001b[39;49m\n\u001b[1;32m     14\u001b[0m \u001b[43m    \u001b[49m\u001b[43m)\u001b[49m\n",
      "File \u001b[0;32m/glade/work/ajanney/CrocoDash/CrocoDash/rm6/regional_mom6/regional_mom6.py:1297\u001b[0m, in \u001b[0;36mexperiment.setup_initial_condition\u001b[0;34m(self, raw_ic_path, varnames, arakawa_grid, vcoord_type, rotational_method, regridding_method)\u001b[0m\n\u001b[1;32m   1294\u001b[0m     tracers_out[\u001b[38;5;124m\"\u001b[39m\u001b[38;5;124mzl\u001b[39m\u001b[38;5;124m\"\u001b[39m] \u001b[38;5;241m=\u001b[39m tracers_out[\u001b[38;5;124m\"\u001b[39m\u001b[38;5;124mzl\u001b[39m\u001b[38;5;124m\"\u001b[39m]\u001b[38;5;241m.\u001b[39mdiff(\u001b[38;5;124m\"\u001b[39m\u001b[38;5;124mzl\u001b[39m\u001b[38;5;124m\"\u001b[39m)\n\u001b[1;32m   1295\u001b[0m     dz \u001b[38;5;241m=\u001b[39m rgd\u001b[38;5;241m.\u001b[39mgenerate_dz(tracers_out, \u001b[38;5;28mself\u001b[39m\u001b[38;5;241m.\u001b[39mz)\n\u001b[0;32m-> 1297\u001b[0m tracers_out \u001b[38;5;241m=\u001b[39m tracers_out\u001b[38;5;241m.\u001b[39minterp({\u001b[38;5;124m\"\u001b[39m\u001b[38;5;124mzl\u001b[39m\u001b[38;5;124m\"\u001b[39m: \u001b[38;5;28;43mself\u001b[39;49m\u001b[38;5;241;43m.\u001b[39;49m\u001b[43mvgrid\u001b[49m\u001b[38;5;241;43m.\u001b[39;49m\u001b[43mzl\u001b[49m\u001b[38;5;241m.\u001b[39mvalues})\n\u001b[1;32m   1298\u001b[0m vel_out \u001b[38;5;241m=\u001b[39m vel_out\u001b[38;5;241m.\u001b[39minterp({\u001b[38;5;124m\"\u001b[39m\u001b[38;5;124mzl\u001b[39m\u001b[38;5;124m\"\u001b[39m: \u001b[38;5;28mself\u001b[39m\u001b[38;5;241m.\u001b[39mvgrid\u001b[38;5;241m.\u001b[39mzl\u001b[38;5;241m.\u001b[39mvalues})\n\u001b[1;32m   1300\u001b[0m \u001b[38;5;28mprint\u001b[39m(\u001b[38;5;124m\"\u001b[39m\u001b[38;5;124mSaving outputs... \u001b[39m\u001b[38;5;124m\"\u001b[39m, end\u001b[38;5;241m=\u001b[39m\u001b[38;5;124m\"\u001b[39m\u001b[38;5;124m\"\u001b[39m)\n",
      "\u001b[0;31mAttributeError\u001b[0m: 'VGrid' object has no attribute 'zl'"
     ]
    }
   ],
   "source": [
    "# Read in hgrid\n",
    "hgrid = xr.open_dataset(hgrid)\n",
    "\n",
    "# Set up required information\n",
    "expt = rm6.experiment.create_empty()\n",
    "expt.hgrid = hgrid\n",
    "expt.vgrid = vgrid\n",
    "expt.mom_input_dir = Path(output_folder)\n",
    "\n",
    "expt.setup_initial_condition(\n",
    "        raw_ic_path='/glade/work/ajanney/CrocoDash_Input/pacific_archive/ic_unprocessed_clean.nc',\n",
    "        varnames=ocean_varnames,\n",
    "        arakawa_grid=\"A\"\n",
    "    )"
   ]
  },
  {
   "cell_type": "code",
   "execution_count": null,
   "id": "5590895a",
   "metadata": {},
   "outputs": [],
   "source": []
  }
 ],
 "metadata": {
  "kernelspec": {
   "display_name": "Python 3",
   "language": "python",
   "name": "python3"
  },
  "language_info": {
   "codemirror_mode": {
    "name": "ipython",
    "version": 3
   },
   "file_extension": ".py",
   "mimetype": "text/x-python",
   "name": "python",
   "nbconvert_exporter": "python",
   "pygments_lexer": "ipython3",
   "version": "3.12.9"
  }
 },
 "nbformat": 4,
 "nbformat_minor": 5
}
